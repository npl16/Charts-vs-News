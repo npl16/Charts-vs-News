{
 "cells": [
  {
   "cell_type": "code",
   "execution_count": 23,
   "metadata": {
    "collapsed": true
   },
   "outputs": [],
   "source": [
    "from fycharts import SpotifyCharts\n",
    "api = SpotifyCharts.SpotifyCharts()"
   ]
  },
  {
   "cell_type": "code",
   "execution_count": 30,
   "metadata": {
    "collapsed": false
   },
   "outputs": [
    {
     "name": "stdout",
     "output_type": "stream",
     "text": [
      "top200_2020-01-09.csv\n"
     ]
    }
   ],
   "source": [
    "from datetime import datetime, timedelta\n",
    "\n",
    "#today = date.today()\n",
    "#print(\"Today's date:\", today)\n",
    "dateStr = datetime.strftime(datetime.now() - timedelta(1), '%Y-%m-%d')\n",
    "fileName = 'top200_' + dateStr + '.csv'\n",
    "print(fileName)"
   ]
  },
  {
   "cell_type": "code",
   "execution_count": 31,
   "metadata": {
    "collapsed": false
   },
   "outputs": [
    {
     "name": "stderr",
     "output_type": "stream",
     "text": [
      "INFO : 10/01/2020 04:45:46 PM : Extracting top 200 daily for 2020-01-09 - gb\n",
      "INFO : 10/01/2020 04:45:47 PM : Appending data to top200_2020-01-09.csv...\n",
      "INFO : 10/01/2020 04:45:47 PM : Done writing to top200_2020-01-09.csv!!!\n"
     ]
    }
   ],
   "source": [
    "api.top200Daily(output_file = fileName, start = dateStr, end = dateStr, region = 'gb')"
   ]
  },
  {
   "cell_type": "code",
   "execution_count": null,
   "metadata": {
    "collapsed": true
   },
   "outputs": [],
   "source": []
  }
 ],
 "metadata": {
  "kernelspec": {
   "display_name": "Python 3.8",
   "language": "python",
   "name": "python3.8"
  },
  "language_info": {
   "codemirror_mode": {
    "name": "ipython",
    "version": 3
   },
   "file_extension": ".py",
   "mimetype": "text/x-python",
   "name": "python",
   "nbconvert_exporter": "python",
   "pygments_lexer": "ipython3",
   "version": "3.8.0"
  }
 },
 "nbformat": 4,
 "nbformat_minor": 0
}
